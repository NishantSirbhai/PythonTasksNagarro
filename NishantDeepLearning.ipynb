{
 "cells": [
  {
   "cell_type": "code",
   "execution_count": 18,
   "metadata": {},
   "outputs": [],
   "source": [
    "import numpy as np\n",
    "from keras.utils import to_categorical\n",
    "from keras.models import Sequential\n",
    "from keras.layers import Convolution2D\n",
    "from keras.callbacks import EarlyStopping\n",
    "from keras import backend as K\n",
    "import pickle\n",
    "import keras\n",
    "from keras.layers import Dense, Dropout, Flatten, Activation, Conv2D, MaxPooling2D\n",
    "from keras.layers.advanced_activations import LeakyReLU\n",
    "import matplotlib.pyplot as plt"
   ]
  },
  {
   "cell_type": "code",
   "execution_count": 19,
   "metadata": {},
   "outputs": [],
   "source": [
    "with open(\"trainX.pickle\",\"rb\") as f:\n",
    "    X = pickle.load(f)\n",
    "    \n",
    "with open(\"trainY.pickle\",\"rb\") as f:\n",
    "    Y = pickle.load(f)"
   ]
  },
  {
   "cell_type": "code",
   "execution_count": 20,
   "metadata": {},
   "outputs": [],
   "source": [
    "train_x= X[:40000]\n",
    "validate_x= X[40000:50000]\n",
    "test_x= X[50000:]\n",
    "\n",
    "train_y= Y[:40000]\n",
    "validate_y= Y[40000:50000]\n",
    "test_y= Y[50000:]"
   ]
  },
  {
   "cell_type": "code",
   "execution_count": 21,
   "metadata": {},
   "outputs": [
    {
     "name": "stdout",
     "output_type": "stream",
     "text": [
      "x_train shape: (40000, 28, 28)\n",
      "40000 train samples\n",
      "10000 test samples\n",
      "10000 validation samples\n"
     ]
    }
   ],
   "source": [
    "num_classes= 10\n",
    "train_x = train_x.astype('float32')\n",
    "test_x = test_x.astype('float32')\n",
    "validate_x = validate_x.astype('float32')\n",
    "\n",
    "train_x /= 255\n",
    "test_x /= 255\n",
    "validate_x/= 255\n",
    "\n",
    "print('x_train shape:', train_x.shape)\n",
    "print(train_x.shape[0], 'train samples')\n",
    "print(test_x.shape[0], 'test samples')\n",
    "print(validate_x.shape[0], 'validation samples')\n",
    "\n",
    "# convert class vectors to binary class matrices\n",
    "train_y = keras.utils.to_categorical(train_y, num_classes)\n",
    "test_y = keras.utils.to_categorical(test_y, num_classes)\n",
    "validate_y = keras.utils.to_categorical(validate_y, num_classes)"
   ]
  },
  {
   "cell_type": "code",
   "execution_count": 22,
   "metadata": {},
   "outputs": [],
   "source": [
    "train_x = train_x.reshape((train_x.shape[0], 28, 28, 1))\n",
    "test_x = test_x.reshape((test_x.shape[0], 28, 28, 1))\n",
    "validate_x = np.reshape(validate_x, (10000, 28, 28, 1))"
   ]
  },
  {
   "cell_type": "code",
   "execution_count": 23,
   "metadata": {},
   "outputs": [
    {
     "name": "stdout",
     "output_type": "stream",
     "text": [
      "_________________________________________________________________\n",
      "Layer (type)                 Output Shape              Param #   \n",
      "=================================================================\n",
      "conv2d_2 (Conv2D)            (None, 26, 26, 32)        320       \n",
      "_________________________________________________________________\n",
      "max_pooling2d_2 (MaxPooling2 (None, 13, 13, 32)        0         \n",
      "_________________________________________________________________\n",
      "flatten_2 (Flatten)          (None, 5408)              0         \n",
      "_________________________________________________________________\n",
      "dense_3 (Dense)              (None, 128)               692352    \n",
      "_________________________________________________________________\n",
      "dense_4 (Dense)              (None, 10)                1290      \n",
      "=================================================================\n",
      "Total params: 693,962\n",
      "Trainable params: 693,962\n",
      "Non-trainable params: 0\n",
      "_________________________________________________________________\n"
     ]
    },
    {
     "name": "stderr",
     "output_type": "stream",
     "text": [
      "C:\\Users\\Nishant Sirbhai\\Anaconda3\\lib\\site-packages\\ipykernel_launcher.py:2: UserWarning: Update your `Conv2D` call to the Keras 2 API: `Conv2D(32, (3, 3), input_shape=(28, 28, 1..., activation=\"relu\")`\n",
      "  \n",
      "C:\\Users\\Nishant Sirbhai\\Anaconda3\\lib\\site-packages\\ipykernel_launcher.py:7: UserWarning: Update your `Dense` call to the Keras 2 API: `Dense(kernel_initializer=\"uniform\", activation=\"relu\", units=128)`\n",
      "  import sys\n",
      "C:\\Users\\Nishant Sirbhai\\Anaconda3\\lib\\site-packages\\ipykernel_launcher.py:9: UserWarning: Update your `Dense` call to the Keras 2 API: `Dense(kernel_initializer=\"uniform\", activation=\"softmax\", units=10)`\n",
      "  if __name__ == '__main__':\n"
     ]
    }
   ],
   "source": [
    "model = Sequential() \n",
    "model.add(Convolution2D(32, 3, 3, input_shape=(28, 28, 1), activation='relu')) # add input layer\n",
    "\n",
    "model.add(MaxPooling2D(pool_size= (2, 2)))\n",
    "model.add(Flatten())\n",
    "\n",
    "model.add(Dense(output_dim=128, kernel_initializer ='uniform', activation='relu'))\n",
    "\n",
    "model.add(Dense(output_dim=10, kernel_initializer ='uniform', activation='softmax'))\n",
    "model.compile(optimizer='adam', loss='categorical_crossentropy', metrics=['accuracy'])\n",
    "early_stopping_monitor = EarlyStopping(patience=3)\n",
    "model.summary()"
   ]
  },
  {
   "cell_type": "code",
   "execution_count": 24,
   "metadata": {},
   "outputs": [
    {
     "name": "stdout",
     "output_type": "stream",
     "text": [
      "Train on 40000 samples, validate on 10000 samples\n",
      "Epoch 1/10\n",
      "40000/40000 [==============================] - 42s 1ms/step - loss: 0.4906 - acc: 0.8236 - val_loss: 0.3400 - val_acc: 0.8777\n",
      "Epoch 2/10\n",
      "40000/40000 [==============================] - 43s 1ms/step - loss: 0.3139 - acc: 0.8872 - val_loss: 0.3094 - val_acc: 0.8873\n",
      "Epoch 3/10\n",
      "40000/40000 [==============================] - 39s 978us/step - loss: 0.2630 - acc: 0.9028 - val_loss: 0.2773 - val_acc: 0.8976\n",
      "Epoch 4/10\n",
      "40000/40000 [==============================] - 39s 978us/step - loss: 0.2267 - acc: 0.9164 - val_loss: 0.2591 - val_acc: 0.9078\n",
      "Epoch 5/10\n",
      "40000/40000 [==============================] - 40s 988us/step - loss: 0.1950 - acc: 0.9285 - val_loss: 0.2625 - val_acc: 0.9044\n",
      "Epoch 6/10\n",
      "40000/40000 [==============================] - 40s 1ms/step - loss: 0.1677 - acc: 0.9388 - val_loss: 0.2528 - val_acc: 0.9115\n",
      "Epoch 7/10\n",
      "40000/40000 [==============================] - 40s 1ms/step - loss: 0.1471 - acc: 0.9456 - val_loss: 0.2712 - val_acc: 0.9069\n",
      "Epoch 8/10\n",
      "40000/40000 [==============================] - 41s 1ms/step - loss: 0.1246 - acc: 0.9540 - val_loss: 0.2746 - val_acc: 0.9127\n",
      "Epoch 9/10\n",
      "40000/40000 [==============================] - 42s 1ms/step - loss: 0.1085 - acc: 0.9604 - val_loss: 0.2650 - val_acc: 0.9118\n",
      "Baseline Error: 8.82%\n"
     ]
    }
   ],
   "source": [
    "model.fit(train_x,train_y,validation_data=(test_x, test_y), epochs=10, verbose=True, callbacks=[early_stopping_monitor])\n",
    "scores = model.evaluate(test_x,test_y,verbose=0)\n",
    "print(\"Baseline Error: %.2f%%\" % (100-scores[1]*100)) "
   ]
  },
  {
   "cell_type": "code",
   "execution_count": 25,
   "metadata": {},
   "outputs": [
    {
     "data": {
      "text/plain": [
       "5"
      ]
     },
     "execution_count": 25,
     "metadata": {},
     "output_type": "execute_result"
    }
   ],
   "source": [
    "with open('testX.pickle','rb') as f:\n",
    "    pred=pickle.load(f)\n",
    "pred=np.reshape(pred,(10000,28,28,1))\n",
    "Prediction=model.predict_classes(pred)\n",
    "Prediction[8788]"
   ]
  },
  {
   "cell_type": "code",
   "execution_count": 28,
   "metadata": {},
   "outputs": [],
   "source": [
    "with open('Predictions.pickle', 'wb') as f:\n",
    "    pickle.dump(Prediction, f)\n"
   ]
  },
  {
   "cell_type": "code",
   "execution_count": null,
   "metadata": {},
   "outputs": [],
   "source": []
  }
 ],
 "metadata": {
  "kernelspec": {
   "display_name": "Python 3",
   "language": "python",
   "name": "python3"
  },
  "language_info": {
   "codemirror_mode": {
    "name": "ipython",
    "version": 3
   },
   "file_extension": ".py",
   "mimetype": "text/x-python",
   "name": "python",
   "nbconvert_exporter": "python",
   "pygments_lexer": "ipython3",
   "version": "3.7.3"
  }
 },
 "nbformat": 4,
 "nbformat_minor": 2
}
